{
  "nbformat": 4,
  "nbformat_minor": 0,
  "metadata": {
    "colab": {
      "name": "Copy of Hw-1.ipynb",
      "provenance": [],
      "authorship_tag": "ABX9TyMSjqPuORTkjIrqQGQJfyvL",
      "include_colab_link": true
    },
    "kernelspec": {
      "name": "python3",
      "display_name": "Python 3"
    }
  },
  "cells": [
    {
      "cell_type": "markdown",
      "metadata": {
        "id": "view-in-github",
        "colab_type": "text"
      },
      "source": [
        "<a href=\"https://colab.research.google.com/github/onexmaster/quantum_computing/blob/master/Hw_1_with_minimal_calculation.ipynb\" target=\"_parent\"><img src=\"https://colab.research.google.com/assets/colab-badge.svg\" alt=\"Open In Colab\"/></a>"
      ]
    },
    {
      "cell_type": "code",
      "metadata": {
        "id": "Hf_gpdnTtF75",
        "colab_type": "code",
        "colab": {}
      },
      "source": [
        "import numpy as np\n",
        "from scipy.linalg import null_space\n",
        "import numpy.random as npr"
      ],
      "execution_count": 0,
      "outputs": []
    },
    {
      "cell_type": "code",
      "metadata": {
        "id": "MtCoMamDqXAg",
        "colab_type": "code",
        "colab": {}
      },
      "source": [
        "def test_minimal(M, coefficients):\n",
        "  if coefficients.size == 0:\n",
        "    return\n",
        "  mult = np.eye(M.shape[0])\n",
        "  sum = 0\n",
        "  for i in range(len(coefficients)):\n",
        "    sum += coefficients[i, 0] * mult\n",
        "    mult = np.matmul(M, mult)\n",
        "  return np.allclose(sum, 0)"
      ],
      "execution_count": 0,
      "outputs": []
    },
    {
      "cell_type": "code",
      "metadata": {
        "id": "9hmqdXjXtIa7",
        "colab_type": "code",
        "colab": {}
      },
      "source": [
        "def annihilate_min_deg_poly(M):\n",
        "  n = M.shape[0]\n",
        "  A = np.empty((n*n, 1))\n",
        "  A[:, 0] = np.eye(n).ravel()\n",
        "  M_curr = np.eye(n)\n",
        "  for i in range(1, n+1):\n",
        "    M_curr = np.matmul(M_curr, M)\n",
        "    A = np.hstack((A, np.ravel(M_curr)[:, None]))\n",
        "    coefficients = null_space(A)\n",
        "    if test_minimal(M, coefficients):\n",
        "      return coefficients"
      ],
      "execution_count": 0,
      "outputs": []
    },
    {
      "cell_type": "code",
      "metadata": {
        "id": "IR04nUfEtSoI",
        "colab_type": "code",
        "outputId": "7175f9cd-5e1c-4c4a-c847-b7dc12e92de8",
        "colab": {
          "base_uri": "https://localhost:8080/",
          "height": 101
        }
      },
      "source": [
        "array = np.array([[1,1,0], [1,0,0], [1,0,1]])\n",
        "coeffs = annihilate_min_deg_poly(array)\n",
        "print('Minimal Degree of Given Matrix is {}'.format(len(coeffs) - 1))\n",
        "print(coeffs)"
      ],
      "execution_count": 4,
      "outputs": [
        {
          "output_type": "stream",
          "text": [
            "Minimal Degree of Given Matrix is 3\n",
            "[[ 4.08248290e-01]\n",
            " [-8.32667268e-17]\n",
            " [-8.16496581e-01]\n",
            " [ 4.08248290e-01]]\n"
          ],
          "name": "stdout"
        }
      ]
    },
    {
      "cell_type": "code",
      "metadata": {
        "id": "9ickpp-VtWNS",
        "colab_type": "code",
        "colab": {}
      },
      "source": [
        ""
      ],
      "execution_count": 0,
      "outputs": []
    }
  ]
}