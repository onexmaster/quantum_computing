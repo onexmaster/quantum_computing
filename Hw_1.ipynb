{
  "nbformat": 4,
  "nbformat_minor": 0,
  "metadata": {
    "colab": {
      "name": "Copy of Copy of Hw-1.ipynb",
      "provenance": [],
      "toc_visible": true,
      "authorship_tag": "ABX9TyMwBL7k5JrPIHVUCOrmbd2g",
      "include_colab_link": true
    },
    "kernelspec": {
      "name": "python3",
      "display_name": "Python 3"
    }
  },
  "cells": [
    {
      "cell_type": "markdown",
      "metadata": {
        "id": "view-in-github",
        "colab_type": "text"
      },
      "source": [
        "<a href=\"https://colab.research.google.com/github/onexmaster/quantum_computing/blob/master/Hw_1.ipynb\" target=\"_parent\"><img src=\"https://colab.research.google.com/assets/colab-badge.svg\" alt=\"Open In Colab\"/></a>"
      ]
    },
    {
      "cell_type": "code",
      "metadata": {
        "id": "Hf_gpdnTtF75",
        "colab_type": "code",
        "colab": {}
      },
      "source": [
        "import numpy as np\n",
        "from scipy.linalg import null_space\n",
        "import numpy.random as npr"
      ],
      "execution_count": 0,
      "outputs": []
    },
    {
      "cell_type": "code",
      "metadata": {
        "id": "MtCoMamDqXAg",
        "colab_type": "code",
        "colab": {}
      },
      "source": [
        "def test_minimal(M, coefficients):\n",
        "  if coefficients.size == 0:\n",
        "    return\n",
        "  mult = np.eye(M.shape[0])\n",
        "  sum = 0\n",
        "  for i in range(len(coefficients)):\n",
        "    sum += coefficients[i, 0] * mult\n",
        "    mult = np.matmul(M, mult)\n",
        "  return np.allclose(sum, 0)"
      ],
      "execution_count": 0,
      "outputs": []
    },
    {
      "cell_type": "code",
      "metadata": {
        "id": "9hmqdXjXtIa7",
        "colab_type": "code",
        "colab": {}
      },
      "source": [
        "def annihilate_min_deg_poly(M):\n",
        "  n = M.shape[0]\n",
        "  A = np.empty((n*n, 1))\n",
        "  #Ravel Returns a contiguous flattened array.\n",
        "  A[:, 0] = np.eye(n).ravel()\n",
        "  M_curr = np.eye(n)\n",
        "  for i in range(1, n+1):\n",
        "    M_curr = np.matmul(M_curr, M)\n",
        "    #Stack arrays in sequence horizontally (column wise).\n",
        "    A = np.hstack((A, np.ravel(M_curr)[:, None]))\n",
        "    coefficients = null_space(A)\n",
        "    if test_minimal(M, coefficients):\n",
        "      return coefficients"
      ],
      "execution_count": 0,
      "outputs": []
    },
    {
      "cell_type": "code",
      "metadata": {
        "id": "IR04nUfEtSoI",
        "colab_type": "code",
        "outputId": "ae45440a-4cb6-4b79-ad7e-537a0d4f8979",
        "colab": {
          "base_uri": "https://localhost:8080/",
          "height": 170
        }
      },
      "source": [
        "array = np.array([[5,-6,-6], [-1,4,2], [3,-6,-4]])\n",
        "print('For the Matrix:')\n",
        "print(array)\n",
        "coefficients = annihilate_min_deg_poly(array)\n",
        "print('Minimal Polynomial has the degree {}'.format(len(coefficients) - 1))\n",
        "print('The coefficents of the Minimal Polynomial are as follows')\n",
        "print(coefficients)"
      ],
      "execution_count": 0,
      "outputs": [
        {
          "output_type": "stream",
          "text": [
            "For the Matrix:\n",
            "[[ 5 -6 -6]\n",
            " [-1  4  2]\n",
            " [ 3 -6 -4]]\n",
            "Minimal Polynomial has the degree 2\n",
            "The coefficents of the Minimal Polynomial are as follows\n",
            "[[-0.53452248]\n",
            " [ 0.80178373]\n",
            " [-0.26726124]]\n"
          ],
          "name": "stdout"
        }
      ]
    },
    {
      "cell_type": "code",
      "metadata": {
        "id": "9ickpp-VtWNS",
        "colab_type": "code",
        "outputId": "ac08fcfb-028c-4292-9a02-9b55848320f0",
        "colab": {
          "base_uri": "https://localhost:8080/",
          "height": 153
        }
      },
      "source": [
        "array = np.array([[1,0,0], [0,1,0], [0,0,1]])\n",
        "print('For the Matrix:')\n",
        "print(array)\n",
        "coefficients = annihilate_min_deg_poly(array)\n",
        "print('Minimal Polynomial has the degree {}'.format(len(coefficients) - 1))\n",
        "print('The coefficents of the Minimal Polynomial are as follows')\n",
        "print(coefficients)"
      ],
      "execution_count": 0,
      "outputs": [
        {
          "output_type": "stream",
          "text": [
            "For the Matrix:\n",
            "[[1 0 0]\n",
            " [0 1 0]\n",
            " [0 0 1]]\n",
            "Minimal Polynomial has the degree 1\n",
            "The coefficents of the Minimal Polynomial are as follows\n",
            "[[-0.70710678]\n",
            " [ 0.70710678]]\n"
          ],
          "name": "stdout"
        }
      ]
    },
    {
      "cell_type": "code",
      "metadata": {
        "id": "2tbKl6Gdt69o",
        "colab_type": "code",
        "outputId": "07462001-9eec-44ae-fb9f-3019e90202c2",
        "colab": {
          "base_uri": "https://localhost:8080/",
          "height": 170
        }
      },
      "source": [
        "array = np.array([[0,1,0], [0,1,0], [0,0,1]])\n",
        "print('For the Matrix:')\n",
        "print(array)\n",
        "coefficients = annihilate_min_deg_poly(array)\n",
        "print('Minimal Polynomial has the degree {}'.format(len(coefficients) - 1))\n",
        "print('The coefficents of the Minimal Polynomial are as follows')\n",
        "print(coefficients)"
      ],
      "execution_count": 0,
      "outputs": [
        {
          "output_type": "stream",
          "text": [
            "For the Matrix:\n",
            "[[0 1 0]\n",
            " [0 1 0]\n",
            " [0 0 1]]\n",
            "Minimal Polynomial has the degree 2\n",
            "The coefficents of the Minimal Polynomial are as follows\n",
            "[[-0.        ]\n",
            " [ 0.70710678]\n",
            " [-0.70710678]]\n"
          ],
          "name": "stdout"
        }
      ]
    },
    {
      "cell_type": "code",
      "metadata": {
        "id": "fusx5HhOuG4-",
        "colab_type": "code",
        "outputId": "037e90d2-92ae-4825-b9e4-9aa0350900ba",
        "colab": {
          "base_uri": "https://localhost:8080/",
          "height": 153
        }
      },
      "source": [
        "array = np.array([[1,2], [3,4]])\n",
        "print('For the Matrix:')\n",
        "print(array)\n",
        "coefficients = annihilate_min_deg_poly(array)\n",
        "print('Minimal Polynomial has the degree {}'.format(len(coefficients) - 1))\n",
        "print('The coefficents of the Minimal Polynomial are as follows')\n",
        "print(coefficients)"
      ],
      "execution_count": 0,
      "outputs": [
        {
          "output_type": "stream",
          "text": [
            "For the Matrix:\n",
            "[[1 2]\n",
            " [3 4]]\n",
            "Minimal Polynomial has the degree 2\n",
            "The coefficents of the Minimal Polynomial are as follows\n",
            "[[-0.36514837]\n",
            " [-0.91287093]\n",
            " [ 0.18257419]]\n"
          ],
          "name": "stdout"
        }
      ]
    },
    {
      "cell_type": "code",
      "metadata": {
        "id": "t57CCTUhFdGz",
        "colab_type": "code",
        "outputId": "4cb488ee-011d-48d1-a5ac-af8e9050b2da",
        "colab": {
          "base_uri": "https://localhost:8080/",
          "height": 221
        }
      },
      "source": [
        "#This is a 4x4 Jordan Block \n",
        "array = np.array([[5, 1, 0, 0], [0, 5, 1, 0], [0, 0, 5, 1], [0, 0, 0, 5]])\n",
        "print('For the Matrix:')\n",
        "print(array)\n",
        "coefficients = annihilate_min_deg_poly(array)\n",
        "print('Minimal Polynomial has the degree {}'.format(len(coefficients) - 1))\n",
        "print('The coefficents of the Minimal Polynomial are as follows')\n",
        "print(coefficients)"
      ],
      "execution_count": 0,
      "outputs": [
        {
          "output_type": "stream",
          "text": [
            "For the Matrix:\n",
            "[[5 1 0 0]\n",
            " [0 5 1 0]\n",
            " [0 0 5 1]\n",
            " [0 0 0 5]]\n",
            "Minimal Polynomial has the degree 4\n",
            "The coefficents of the Minimal Polynomial are as follows\n",
            "[[-0.76727499]\n",
            " [ 0.61382   ]\n",
            " [-0.184146  ]\n",
            " [ 0.0245528 ]\n",
            " [-0.00122764]]\n"
          ],
          "name": "stdout"
        }
      ]
    },
    {
      "cell_type": "code",
      "metadata": {
        "id": "sCXdTPQqHOt3",
        "colab_type": "code",
        "colab": {}
      },
      "source": [
        ""
      ],
      "execution_count": 0,
      "outputs": []
    }
  ]
}