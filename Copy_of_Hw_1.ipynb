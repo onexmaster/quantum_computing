{
  "nbformat": 4,
  "nbformat_minor": 0,
  "metadata": {
    "colab": {
      "name": "Copy of Hw-1.ipynb",
      "provenance": [],
      "toc_visible": true,
      "authorship_tag": "ABX9TyOf/K4A+5i7C/DDuZE0DClc",
      "include_colab_link": true
    },
    "kernelspec": {
      "name": "python3",
      "display_name": "Python 3"
    }
  },
  "cells": [
    {
      "cell_type": "markdown",
      "metadata": {
        "id": "view-in-github",
        "colab_type": "text"
      },
      "source": [
        "<a href=\"https://colab.research.google.com/github/onexmaster/quantum_computing/blob/master/Copy_of_Hw_1.ipynb\" target=\"_parent\"><img src=\"https://colab.research.google.com/assets/colab-badge.svg\" alt=\"Open In Colab\"/></a>"
      ]
    },
    {
      "cell_type": "code",
      "metadata": {
        "id": "Hf_gpdnTtF75",
        "colab_type": "code",
        "colab": {}
      },
      "source": [
        "import numpy as np\n",
        "from scipy.linalg import null_space\n",
        "import numpy.random as npr"
      ],
      "execution_count": 0,
      "outputs": []
    },
    {
      "cell_type": "code",
      "metadata": {
        "id": "MtCoMamDqXAg",
        "colab_type": "code",
        "colab": {}
      },
      "source": [
        "def test_minimal(M, coefficients):\n",
        "  if coefficients.size == 0:\n",
        "    return\n",
        "  mult = np.eye(M.shape[0])\n",
        "  sum = 0\n",
        "  for i in range(len(coefficients)):\n",
        "    sum += coefficients[i, 0] * mult\n",
        "    mult = np.matmul(M, mult)\n",
        "  return np.allclose(sum, 0)"
      ],
      "execution_count": 0,
      "outputs": []
    },
    {
      "cell_type": "code",
      "metadata": {
        "id": "9hmqdXjXtIa7",
        "colab_type": "code",
        "colab": {}
      },
      "source": [
        "def annihilate_min_deg_poly(M):\n",
        "  n = M.shape[0]\n",
        "  A = np.empty((n*n, 1))\n",
        "  A[:, 0] = np.eye(n).ravel()\n",
        "  M_curr = np.eye(n)\n",
        "  for i in range(1, n+1):\n",
        "    M_curr = np.matmul(M_curr, M)\n",
        "    A = np.hstack((A, np.ravel(M_curr)[:, None]))\n",
        "    coefficients = null_space(A)\n",
        "    if test_minimal(M, coefficients):\n",
        "      return coefficients"
      ],
      "execution_count": 0,
      "outputs": []
    },
    {
      "cell_type": "code",
      "metadata": {
        "id": "IR04nUfEtSoI",
        "colab_type": "code",
        "outputId": "d4fa6ea6-2c8a-4cbc-b24f-0d963318f1bd",
        "colab": {
          "base_uri": "https://localhost:8080/",
          "height": 101
        }
      },
      "source": [
        "array = np.array([[1,1,0], [1,0,0], [1,0,1]])\n",
        "coefficients = annihilate_min_deg_poly(array)\n",
        "print('Minimal Degree of Given Matrix is {}'.format(len(coefficients) - 1))\n",
        "print(coefficients)"
      ],
      "execution_count": 8,
      "outputs": [
        {
          "output_type": "stream",
          "text": [
            "Minimal Degree of Given Matrix is 3\n",
            "[[ 4.08248290e-01]\n",
            " [-8.32667268e-17]\n",
            " [-8.16496581e-01]\n",
            " [ 4.08248290e-01]]\n"
          ],
          "name": "stdout"
        }
      ]
    },
    {
      "cell_type": "code",
      "metadata": {
        "id": "9ickpp-VtWNS",
        "colab_type": "code",
        "colab": {
          "base_uri": "https://localhost:8080/",
          "height": 67
        },
        "outputId": "0176e567-2d06-4b92-835f-107c54627a4a"
      },
      "source": [
        "array = np.array([[1,0,0], [0,1,0], [0,0,1]])\n",
        "coefficients = annihilate_min_deg_poly(array)\n",
        "print('Minimal Degree of Given Matrix is {}'.format(len(coefficients) - 1))\n",
        "print(coefficients)"
      ],
      "execution_count": 12,
      "outputs": [
        {
          "output_type": "stream",
          "text": [
            "Minimal Degree of Given Matrix is 1\n",
            "[[-0.70710678]\n",
            " [ 0.70710678]]\n"
          ],
          "name": "stdout"
        }
      ]
    },
    {
      "cell_type": "code",
      "metadata": {
        "id": "2tbKl6Gdt69o",
        "colab_type": "code",
        "colab": {
          "base_uri": "https://localhost:8080/",
          "height": 84
        },
        "outputId": "3229fc31-37a2-49a7-9e2b-3fb5ed016068"
      },
      "source": [
        "array = np.array([[0,1,0], [0,1,0], [0,0,1]])\n",
        "coefficients = annihilate_min_deg_poly(array)\n",
        "print('Minimal Degree of Given Matrix is {}'.format(len(coefficients) - 1))\n",
        "print(coefficients)"
      ],
      "execution_count": 13,
      "outputs": [
        {
          "output_type": "stream",
          "text": [
            "Minimal Degree of Given Matrix is 2\n",
            "[[-0.        ]\n",
            " [ 0.70710678]\n",
            " [-0.70710678]]\n"
          ],
          "name": "stdout"
        }
      ]
    },
    {
      "cell_type": "code",
      "metadata": {
        "id": "fusx5HhOuG4-",
        "colab_type": "code",
        "colab": {}
      },
      "source": [
        ""
      ],
      "execution_count": 0,
      "outputs": []
    }
  ]
}