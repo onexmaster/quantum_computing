{
  "nbformat": 4,
  "nbformat_minor": 0,
  "metadata": {
    "colab": {
      "name": "Untitled9.ipynb",
      "provenance": [],
      "authorship_tag": "ABX9TyPKZPuvMx5MRt6IKxkgPBIQ",
      "include_colab_link": true
    },
    "kernelspec": {
      "name": "python3",
      "display_name": "Python 3"
    }
  },
  "cells": [
    {
      "cell_type": "markdown",
      "metadata": {
        "id": "view-in-github",
        "colab_type": "text"
      },
      "source": [
        "<a href=\"https://colab.research.google.com/github/onexmaster/quantum_computing/blob/master/HW_2.ipynb\" target=\"_parent\"><img src=\"https://colab.research.google.com/assets/colab-badge.svg\" alt=\"Open In Colab\"/></a>"
      ]
    },
    {
      "cell_type": "code",
      "metadata": {
        "id": "n9vpkLHR-_iA",
        "colab_type": "code",
        "colab": {}
      },
      "source": [
        ""
      ],
      "execution_count": 0,
      "outputs": []
    },
    {
      "cell_type": "markdown",
      "metadata": {
        "id": "_t1to3uH_Gfy",
        "colab_type": "text"
      },
      "source": [
        "# **Problem 1**\n",
        "Implement a simulation of the Hadamard test for any qubit state |psi> and any single qubit unitary U using numpy. Observe that you have to compute how the state of the quantum register changes. It is not enough to just code up the formula for the probabilities that we derived in class.\n",
        "\n",
        "Recall that you can realize the controlled-U gate as follows:  |0><0|⊗I+|1><1|⊗U . Use the numpy command np.kron for the tensor product.\n",
        "\n",
        "For  |ψ>  use the state  |0>  and for the unitary U use the orthogonal matrix that describes the rotation by angle  2πθ , where  θ∈[0,1) .\n",
        "\n",
        "Create a plot showing the probability Pr(0) in dependence on theta.\n",
        "\n",
        "\n",
        "---\n",
        "\n",
        "\n",
        "***Below shows the steps to apply Hadamard Test on Qubits ***\n",
        "\n",
        "\n",
        "\n",
        "\n",
        "1.   Apply Hadamard transformatin to only the first qbit.\n",
        "2.   Apply Controlled-U gate. \n",
        "3.   Find the temp result of controlled U Gate and first qbit\n",
        "4.   Measure the probability using projector operator\n",
        "\n",
        "\n",
        "\n",
        "\n",
        "\n",
        "\n"
      ]
    },
    {
      "cell_type": "code",
      "metadata": {
        "id": "cuPzk7DM_JWg",
        "colab_type": "code",
        "colab": {}
      },
      "source": [
        "import numpy as np\n",
        "import scipy as sp\n",
        "from matplotlib import pyplot\n",
        "from scipy import linalg as la\n",
        "\n",
        "# Define matrices\n",
        "ket_0 = np.array([[1],[0]])\n",
        "ket_1 = np.array([[0],[1]])\n",
        "identity = np.matrix([[1,0],[0,1]])\n",
        "hadamard_matrix = np.matrix([[1,1],[1,-1]])\n",
        "\n",
        "\n",
        "#This Function simulates the hadamard transformation   \n",
        "def hadamard_gate(ket_psi):\n",
        "  return np.matmul(((1/(np.sqrt(2)))*hadamard_matrix),ket_psi)\n",
        "\n",
        "\n",
        "#This Functions simulates Controlled-U Gate\n",
        "def controlled_gate(U, ket_psi):\n",
        "  return np.dot((np.kron(outer_product(ket_0), identity) +\n",
        "           (np.kron(outer_product(ket_1), U))), ket_psi)\n",
        "\n",
        "# This Functions find the outer product which is just basic matrix multiplication\n",
        "def outer_product(ket_psi):\n",
        "  bra_psi = np.conj(ket_psi).T\n",
        "  return np.matmul(ket_psi, bra_psi)\n",
        "\n",
        "#This Functions simulates the hadamard Test \n",
        "def hadamard_test(ket_psi, U):\n",
        "  #  1\n",
        "  h1 = hadamard_gate(ket_0)\n",
        "  h1 = np.kron(h1, ket_psi)\n",
        "\n",
        "  #  2\n",
        "  controlled_U = controlled_gate(U, h1)\n",
        "\n",
        "  #  3\n",
        "  H_matrix = (1/(np.sqrt(2))) * hadamard_matrix \n",
        "  H_1_qu = np.kron(H_matrix, identity)\n",
        "  temp_result = np.dot(H_1_qu, controlled_U)\n",
        "  \n",
        "  #  4\n",
        "  result = la.norm(np.dot(np.kron(outer_product(ket_0), identity), temp_result)) ** 2\n",
        "  return result"
      ],
      "execution_count": 0,
      "outputs": []
    },
    {
      "cell_type": "code",
      "metadata": {
        "id": "V0Vboxy8_X_x",
        "colab_type": "code",
        "colab": {
          "base_uri": "https://localhost:8080/",
          "height": 296
        },
        "outputId": "7c6602d8-90cb-4463-96db-3f117d41a138"
      },
      "source": [
        "#Testing the Function on Rotation Matrix where theta lies between 0 and 2pi\n",
        "ket_psi = np.array([[1],[0]])\n",
        "theta = np.linspace(0, 1, 25,endpoint=False)\n",
        "probability = np.empty(25)\n",
        "for i in range(25):\n",
        "  angle = 2*np.pi*theta[i]\n",
        "  U = np.array(([np.cos(angle), -np.sin(angle)],[np.sin(angle), np.cos(angle)]))\n",
        "  probability[i] = hadamard_test(ket_psi, U)\n",
        "\n",
        "pyplot.plot(theta, probability)\n",
        "pyplot.xlabel('θ')\n",
        "pyplot.ylabel('Probability')"
      ],
      "execution_count": 26,
      "outputs": [
        {
          "output_type": "execute_result",
          "data": {
            "text/plain": [
              "Text(0, 0.5, 'Probability')"
            ]
          },
          "metadata": {
            "tags": []
          },
          "execution_count": 26
        },
        {
          "output_type": "display_data",
          "data": {
            "image/png": "[encoded data removed]",
            "text/plain": [
              "<Figure size 432x288 with 1 Axes>"
            ]
          },
          "metadata": {
            "tags": []
          }
        }
      ]
    },
    {
      "cell_type": "code",
      "metadata": {
        "id": "2dQZpxIv_ahP",
        "colab_type": "code",
        "colab": {}
      },
      "source": [
        ""
      ],
      "execution_count": 0,
      "outputs": []
    },
    {
      "cell_type": "markdown",
      "metadata": {
        "id": "PrOta9vmMDl_",
        "colab_type": "text"
      },
      "source": [
        "# **PROBLEM 2**\n",
        "Implement a simulation of the SWAP test.\n",
        "\n",
        "Use  |ψ1⟩=|0⟩  and  |ψ2⟩=cos(2πθ)|0⟩+sin(2πθ)|1⟩ . Create a plot showing the probability Pr(0) in dependence on theta.\n",
        "\n",
        "***Below shows the steps to apply Swap Test on TWo Qubits ***\n",
        "\n",
        "Apply Hadamard transformatin to only the first qbit.\n",
        "\n",
        "\n",
        "\n",
        "1.   Apply Hadamard Gate on psi1 and psi2. \n",
        "2.   Apply Controlled Swap Gate on the reuslt of step 1.\n",
        "3.   Find the temp result of controlled swap Gate and first qbit\n",
        "4.   Measure the probability using projection vector\n"
      ]
    },
    {
      "cell_type": "code",
      "metadata": {
        "id": "2mppwaQPP-LX",
        "colab_type": "code",
        "colab": {}
      },
      "source": [
        "#This function applies the swap gate to ket vector\n",
        "def controlled_swap_gate(ket_psi):\n",
        "  swap = np.array([[1,0,0,0,0,0,0,0],\n",
        "                  [0,1,0,0,0,0,0,0],\n",
        "                  [0,0,1,0,0,0,0,0],\n",
        "                  [0,0,0,1,0,0,0,0],\n",
        "                  [0,0,0,0,1,0,0,0],\n",
        "                  [0,0,0,0,0,0,1,0],\n",
        "                  [0,0,0,0,0,1,0,0],\n",
        "                  [0,0,0,0,0,0,0,1]])\n",
        "  return np.dot(swap, ket_psi)\n",
        "#This function simulates the swap test\n",
        "def swap_test(ket_psi_1, ket_psi_2):\n",
        "  # 1\n",
        "  h1 = hadamard_gate(ket_0)\n",
        "  hadamard_gate_ket_0 = np.kron(np.kron(h1, ket_psi_1), ket_psi_2)\n",
        "\n",
        "  # 2\n",
        "  controlled_swap = controlled_swap_gate(hadamard_gate_ket_0)\n",
        "\n",
        "  #  3\n",
        "  H_matrix = (1/(np.sqrt(2))) * hadamard_matrix \n",
        "  H_q1 = np.kron(np.kron(H_matrix, identity),identity)\n",
        "  temp_swap_result = np.dot(H_q1, controlled_swap)\n",
        "\n",
        "  # 4\n",
        "  result = la.norm(np.dot(np.kron(np.kron(outer_product(ket_0), identity), identity),temp_swap_result)) ** 2\n",
        "  return result"
      ],
      "execution_count": 0,
      "outputs": []
    },
    {
      "cell_type": "code",
      "metadata": {
        "id": "X6P8zaXkQoWQ",
        "colab_type": "code",
        "colab": {
          "base_uri": "https://localhost:8080/",
          "height": 296
        },
        "outputId": "f8b4479b-d5b5-431d-a0e4-18ef3b337eb5"
      },
      "source": [
        "ket_psi_1 = np.array([[1],[0]])\n",
        "theta = np.linspace(0, 1, 100, endpoint=False)\n",
        "probability = np.empty(100)\n",
        "for i in range(100):\n",
        "  angle = 2*np.pi*theta[i]\n",
        "  ket_psi_2 = np.cos(angle)*ket_0 + np.sin(angle) * ket_1\n",
        "  probability[i] = swap_test(ket_psi_1, ket_psi_2)\n",
        "\n",
        "pyplot.plot(theta, probability)\n",
        "pyplot.xlabel('θ')\n",
        "pyplot.ylabel('Probability')"
      ],
      "execution_count": 25,
      "outputs": [
        {
          "output_type": "execute_result",
          "data": {
            "text/plain": [
              "Text(0, 0.5, 'Probability')"
            ]
          },
          "metadata": {
            "tags": []
          },
          "execution_count": 25
        },
        {
          "output_type": "display_data",
          "data": {
            "image/png": "[encoded data removed]",
            "text/plain": [
              "<Figure size 432x288 with 1 Axes>"
            ]
          },
          "metadata": {
            "tags": []
          }
        }
      ]
    },
    {
      "cell_type": "code",
      "metadata": {
        "id": "kk-KDrsQQsGG",
        "colab_type": "code",
        "colab": {}
      },
      "source": [
        ""
      ],
      "execution_count": 0,
      "outputs": []
    }
  ]
}