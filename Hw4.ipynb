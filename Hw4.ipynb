{
  "nbformat": 4,
  "nbformat_minor": 0,
  "metadata": {
    "colab": {
      "name": "Untitled10.ipynb",
      "provenance": [],
      "authorship_tag": "ABX9TyMMIV6A/yHhjIMnh4MGgWsu",
      "include_colab_link": true
    },
    "kernelspec": {
      "name": "python3",
      "display_name": "Python 3"
    }
  },
  "cells": [
    {
      "cell_type": "markdown",
      "metadata": {
        "id": "view-in-github",
        "colab_type": "text"
      },
      "source": [
        "<a href=\"https://colab.research.google.com/github/onexmaster/quantum_computing/blob/master/Hw4.ipynb\" target=\"_parent\"><img src=\"https://colab.research.google.com/assets/colab-badge.svg\" alt=\"Open In Colab\"/></a>"
      ]
    },
    {
      "cell_type": "markdown",
      "metadata": {
        "id": "WijUnrraBvho",
        "colab_type": "text"
      },
      "source": [
        "**Question 1) A toy problem to implement cycle detection  algorithm**\n",
        "\n",
        "\n",
        "Write an algorithm to determine if a number n is \"happy\"\n",
        "\n",
        "A happy number is a number defined by the following process: Starting with any positive integer, replace the number by the sum of the squares of its digits,\n",
        "and repeat the process until the number equals 1 (where it will stay), or it loops endlessly in a cycle which does not include 1. \n",
        "Those numbers for which this process ends in 1 are happy numbers.\n",
        "\n",
        "\n",
        "Return True if n is a happy number, and False if not."
      ]
    },
    {
      "cell_type": "code",
      "metadata": {
        "id": "DGvvH97DB8Xo",
        "colab_type": "code",
        "colab": {
          "base_uri": "https://localhost:8080/",
          "height": 51
        },
        "outputId": "3122fd43-6969-4549-bbf5-114c266fa44e"
      },
      "source": [
        "\n",
        "# Python3 program to check a number \n",
        "# is a Happy number or not \n",
        "  \n",
        "# Utility method to return  \n",
        "# sum of square of digit of n \n",
        "def numSquareSum(n): \n",
        "    squareSum = 0; \n",
        "    while(n): \n",
        "        squareSum += (n % 10) * (n % 10); \n",
        "        n = int(n / 10); \n",
        "    return squareSum; \n",
        "  \n",
        "# method return true if \n",
        "# n is Happy number \n",
        "def isHappynumber(n): \n",
        "  \n",
        "    # initialize slow  \n",
        "    # and fast by n \n",
        "    slow = n; \n",
        "    fast = n; \n",
        "    while(True): \n",
        "          \n",
        "        # move slow number \n",
        "        # by one iteration \n",
        "        slow = numSquareSum(slow); \n",
        "  \n",
        "        # move fast number \n",
        "        # by two iteration \n",
        "        fast = numSquareSum(numSquareSum(fast)); \n",
        "        if(slow != fast): \n",
        "            continue; \n",
        "        else: \n",
        "            break; \n",
        "  \n",
        "    # if both number meet at 1,  \n",
        "    # then return true \n",
        "    return (slow == 1); \n",
        "  \n",
        "# Driver Code \n",
        "n = 13; \n",
        "if (isHappynumber(n)): \n",
        "    print(n , \"is a Happy number\"); \n",
        "else: \n",
        "    print(n , \"is not a Happy number\"); \n",
        "n = 125; \n",
        "if (isHappynumber(n)): \n",
        "    print(n , \"is a Happy number\"); \n",
        "else: \n",
        "    print(n , \"is not a Happy number\"); "
      ],
      "execution_count": 10,
      "outputs": [
        {
          "output_type": "stream",
          "text": [
            "13 is a Happy number\n",
            "125 is not a Happy number\n"
          ],
          "name": "stdout"
        }
      ]
    },
    {
      "cell_type": "code",
      "metadata": {
        "id": "nUxnR_RrC_He",
        "colab_type": "code",
        "colab": {}
      },
      "source": [
        "def floyd(f, x0):\n",
        "    # Main phase of algorithm: finding a repetition x_i = x_2i.\n",
        "    # The hare moves twice as quickly as the tortoise and\n",
        "    # the distance between them increases by 1 at each step.\n",
        "    # Eventually they will both be inside the cycle and then,\n",
        "    # at some point, the distance between them will be\n",
        "    # divisible by the period λ.\n",
        "    tortoise = f(x0) # f(x0) is the element/node next to x0.\n",
        "    hare = f(f(x0))\n",
        "    while tortoise != hare:\n",
        "        tortoise = f(tortoise)\n",
        "        hare = f(f(hare))\n",
        "  \n",
        "    # At this point the tortoise position, ν, which is also equal\n",
        "    # to the distance between hare and tortoise, is divisible by\n",
        "    # the period λ. So hare moving in circle one step at a time, \n",
        "    # and tortoise (reset to x0) moving towards the circle, will \n",
        "    # intersect at the beginning of the circle. Because the \n",
        "    # distance between them is constant at 2ν, a multiple of λ,\n",
        "    # they will agree as soon as the tortoise reaches index μ.\n",
        "\n",
        "    # Find the position μ of first repetition.    \n",
        "    mu = 0\n",
        "    tortoise = x0\n",
        "    while tortoise != hare:\n",
        "        tortoise = f(tortoise)\n",
        "        hare = f(hare)   # Hare and tortoise move at same speed\n",
        "        mu += 1\n",
        " \n",
        "    # Find the length of the shortest cycle starting from x_μ\n",
        "    # The hare moves one step at a time while tortoise is still.\n",
        "    # lam is incremented until λ is found.\n",
        "    lam = 1\n",
        "    hare = f(tortoise)\n",
        "    while tortoise != hare:\n",
        "        hare = f(hare)\n",
        "        lam += 1\n",
        " \n",
        "    return lam, mu"
      ],
      "execution_count": 0,
      "outputs": []
    },
    {
      "cell_type": "markdown",
      "metadata": {
        "id": "R8lHJWLWlGSp",
        "colab_type": "text"
      },
      "source": [
        "**Problem 2**\n",
        "\n",
        "Implement the function find_order using floyd cycle detection."
      ]
    },
    {
      "cell_type": "code",
      "metadata": {
        "id": "PuKVrbviDGPh",
        "colab_type": "code",
        "colab": {
          "base_uri": "https://localhost:8080/",
          "height": 51
        },
        "outputId": "008b79a7-a086-42ea-dbe0-36d7957f0053"
      },
      "source": [
        "\n",
        "import math\n",
        "\n",
        "def find_order(a, N):\n",
        "\n",
        "  if(math.gcd(a, N)) != 1: \n",
        "    return -1\n",
        "  \n",
        "  def f(x):\n",
        "    return (a*x) % N\n",
        "  r = floyd(f, 1)\n",
        "\n",
        "  return r[0]\n",
        "\n",
        "print(\"Order of 3 and 7:\", find_order(3, 7))\n",
        "print(\"Order of 11 and 10:\", find_order(11, 10))"
      ],
      "execution_count": 46,
      "outputs": [
        {
          "output_type": "stream",
          "text": [
            "Order of 3 and 7: 6\n",
            "Order of 11 and 10: 1\n"
          ],
          "name": "stdout"
        }
      ]
    },
    {
      "cell_type": "markdown",
      "metadata": {
        "id": "lzQtw38Qojnd",
        "colab_type": "text"
      },
      "source": [
        "**Problem 3**\n",
        "Implement the function factor, which finds random factor of a number using the following instructions.\n",
        "    # choose a uniformly at random in {2,...,N-1}\n",
        "    # compute the order r of a module N using the method from problem 2\n",
        "    # if r odd, chose different a\n",
        "    # if r even, compute f = gcd(a**(r/2 -1), N))\n",
        "    # if f is a trivial factor, choose different a"
      ]
    },
    {
      "cell_type": "code",
      "metadata": {
        "id": "TgWdlofNJ7kZ",
        "colab_type": "code",
        "colab": {
          "base_uri": "https://localhost:8080/",
          "height": 68
        },
        "outputId": "ef163594-1dfa-4518-ea98-0fa4fa728d7f"
      },
      "source": [
        "import numpy as np\n",
        "\n",
        "\n",
        "\n",
        "def factor(N):\n",
        "\n",
        "  while True:\n",
        "    a = np.random.randint(2, N)\n",
        "    #find order using problem 2 \n",
        "    r = find_order(a, N)\n",
        "\n",
        "    if(r == -1):\n",
        "      return math.gcd(a, N)\n",
        "\n",
        "    if(r % 2) == 0:\n",
        "      f = math.gcd((a**(int)(r/2) -1), N)\n",
        "\n",
        "      if(f != 1 and f != N): \n",
        "        return f\n",
        "\n",
        "print(\"Random factor of 2048:\", factor(2048))\n",
        "print(\"Random factor of 200:\", factor(200))\n",
        "print(\"Random factor of 323:\", factor(323))"
      ],
      "execution_count": 47,
      "outputs": [
        {
          "output_type": "stream",
          "text": [
            "Random factor of 2048: 1024\n",
            "Random factor of 200: 100\n",
            "Random factor of 323: 19\n"
          ],
          "name": "stdout"
        }
      ]
    },
    {
      "cell_type": "code",
      "metadata": {
        "id": "xiK6Wi0ykNI-",
        "colab_type": "code",
        "colab": {}
      },
      "source": [
        ""
      ],
      "execution_count": 0,
      "outputs": []
    }
  ]
}